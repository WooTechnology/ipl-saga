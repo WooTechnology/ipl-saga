{
 "cells": [
  {
   "cell_type": "code",
   "execution_count": 1,
   "metadata": {},
   "outputs": [],
   "source": [
    "# importing libraries\n",
    "import pandas as pd                   # for data manipulation\n",
    "import seaborn as sns                 # for data visualisation\n",
    "import matplotlib.pyplot as plt       # for data visualisation\n",
    "from sklearn.model_selection import train_test_split           # for splitting the dataset\n",
    "from sklearn.preprocessing import StandardScaler               # for scaling the dataset\n",
    "from sklearn.metrics import r2_score                           # accuracy measure for the model\n",
    "from sklearn.linear_model import LinearRegression              # Linear Regression model\n",
    "from sklearn.metrics import mean_squared_error                 # accuracy measure for the model\n",
    "import numpy as np                                             # for mathematical operations \n",
    "from sklearn.feature_selection import RFE\n",
    "from sklearn.ensemble import RandomForestRegressor"
   ]
  },
  {
   "cell_type": "markdown",
   "metadata": {},
   "source": [
    "For the linear regression model, the target variable is \"Player Cost USD\"."
   ]
  },
  {
   "cell_type": "markdown",
   "metadata": {},
   "source": [
    "## Reading the dataset"
   ]
  },
  {
   "cell_type": "code",
   "execution_count": 2,
   "metadata": {},
   "outputs": [
    {
     "data": {
      "text/html": [
       "<div>\n",
       "<style scoped>\n",
       "    .dataframe tbody tr th:only-of-type {\n",
       "        vertical-align: middle;\n",
       "    }\n",
       "\n",
       "    .dataframe tbody tr th {\n",
       "        vertical-align: top;\n",
       "    }\n",
       "\n",
       "    .dataframe thead th {\n",
       "        text-align: right;\n",
       "    }\n",
       "</style>\n",
       "<table border=\"1\" class=\"dataframe\">\n",
       "  <thead>\n",
       "    <tr style=\"text-align: right;\">\n",
       "      <th></th>\n",
       "      <th>Is Captain(1=yes)</th>\n",
       "      <th>Is Wktkeeper(1=Yes)</th>\n",
       "      <th>Nationality(1=Overseas)</th>\n",
       "      <th>Team</th>\n",
       "      <th>IPL 4 Franchise</th>\n",
       "      <th>Player cost USD</th>\n",
       "      <th>matches</th>\n",
       "      <th>innings played</th>\n",
       "      <th>no</th>\n",
       "      <th>runs scored</th>\n",
       "      <th>...</th>\n",
       "      <th>half_centuries_ipl</th>\n",
       "      <th>fours_ipl</th>\n",
       "      <th>sixes_ipl</th>\n",
       "      <th>matches_bowl_ipl</th>\n",
       "      <th>balls_bowled_ipl</th>\n",
       "      <th>total_runs_given_ipl</th>\n",
       "      <th>wickets_taken_ipl</th>\n",
       "      <th>bowling_avg_ipl</th>\n",
       "      <th>economy_ipl</th>\n",
       "      <th>3wickets_ipl</th>\n",
       "    </tr>\n",
       "  </thead>\n",
       "  <tbody>\n",
       "    <tr>\n",
       "      <th>0</th>\n",
       "      <td>0.0</td>\n",
       "      <td>0.0</td>\n",
       "      <td>1</td>\n",
       "      <td>Australia</td>\n",
       "      <td>Mumbai Indians</td>\n",
       "      <td>20000.0</td>\n",
       "      <td>40.0</td>\n",
       "      <td>40.0</td>\n",
       "      <td>3.0</td>\n",
       "      <td>817.0</td>\n",
       "      <td>...</td>\n",
       "      <td>0.0</td>\n",
       "      <td>0.0</td>\n",
       "      <td>0.0</td>\n",
       "      <td>0.0</td>\n",
       "      <td>0.0</td>\n",
       "      <td>0.0</td>\n",
       "      <td>0.0</td>\n",
       "      <td>0.0</td>\n",
       "      <td>0.0</td>\n",
       "      <td>0.0</td>\n",
       "    </tr>\n",
       "    <tr>\n",
       "      <th>1</th>\n",
       "      <td>0.0</td>\n",
       "      <td>0.0</td>\n",
       "      <td>1</td>\n",
       "      <td>South Africa</td>\n",
       "      <td>Royal Challengers Bangalore</td>\n",
       "      <td>20000.0</td>\n",
       "      <td>18.0</td>\n",
       "      <td>18.0</td>\n",
       "      <td>1.0</td>\n",
       "      <td>356.0</td>\n",
       "      <td>...</td>\n",
       "      <td>0.0</td>\n",
       "      <td>0.0</td>\n",
       "      <td>0.0</td>\n",
       "      <td>0.0</td>\n",
       "      <td>0.0</td>\n",
       "      <td>0.0</td>\n",
       "      <td>0.0</td>\n",
       "      <td>0.0</td>\n",
       "      <td>0.0</td>\n",
       "      <td>0.0</td>\n",
       "    </tr>\n",
       "    <tr>\n",
       "      <th>2</th>\n",
       "      <td>0.0</td>\n",
       "      <td>0.0</td>\n",
       "      <td>1</td>\n",
       "      <td>Australia</td>\n",
       "      <td>Kings XI Punjab</td>\n",
       "      <td>20000.0</td>\n",
       "      <td>23.0</td>\n",
       "      <td>8.0</td>\n",
       "      <td>5.0</td>\n",
       "      <td>33.0</td>\n",
       "      <td>...</td>\n",
       "      <td>0.0</td>\n",
       "      <td>0.0</td>\n",
       "      <td>0.0</td>\n",
       "      <td>0.0</td>\n",
       "      <td>0.0</td>\n",
       "      <td>0.0</td>\n",
       "      <td>0.0</td>\n",
       "      <td>0.0</td>\n",
       "      <td>0.0</td>\n",
       "      <td>0.0</td>\n",
       "    </tr>\n",
       "    <tr>\n",
       "      <th>3</th>\n",
       "      <td>0.0</td>\n",
       "      <td>0.0</td>\n",
       "      <td>1</td>\n",
       "      <td>South Africa</td>\n",
       "      <td>Royal Challengers Bangalore</td>\n",
       "      <td>20000.0</td>\n",
       "      <td>20.0</td>\n",
       "      <td>20.0</td>\n",
       "      <td>0.0</td>\n",
       "      <td>343.0</td>\n",
       "      <td>...</td>\n",
       "      <td>0.0</td>\n",
       "      <td>0.0</td>\n",
       "      <td>0.0</td>\n",
       "      <td>0.0</td>\n",
       "      <td>0.0</td>\n",
       "      <td>0.0</td>\n",
       "      <td>0.0</td>\n",
       "      <td>0.0</td>\n",
       "      <td>0.0</td>\n",
       "      <td>0.0</td>\n",
       "    </tr>\n",
       "    <tr>\n",
       "      <th>4</th>\n",
       "      <td>0.0</td>\n",
       "      <td>0.0</td>\n",
       "      <td>1</td>\n",
       "      <td>South Africa</td>\n",
       "      <td>Delhi Daredevils</td>\n",
       "      <td>20000.0</td>\n",
       "      <td>25.0</td>\n",
       "      <td>22.0</td>\n",
       "      <td>8.0</td>\n",
       "      <td>213.0</td>\n",
       "      <td>...</td>\n",
       "      <td>0.0</td>\n",
       "      <td>0.0</td>\n",
       "      <td>0.0</td>\n",
       "      <td>0.0</td>\n",
       "      <td>0.0</td>\n",
       "      <td>0.0</td>\n",
       "      <td>0.0</td>\n",
       "      <td>0.0</td>\n",
       "      <td>0.0</td>\n",
       "      <td>0.0</td>\n",
       "    </tr>\n",
       "  </tbody>\n",
       "</table>\n",
       "<p>5 rows × 51 columns</p>\n",
       "</div>"
      ],
      "text/plain": [
       "   Is Captain(1=yes)  Is Wktkeeper(1=Yes)  Nationality(1=Overseas)  \\\n",
       "0                0.0                  0.0                        1   \n",
       "1                0.0                  0.0                        1   \n",
       "2                0.0                  0.0                        1   \n",
       "3                0.0                  0.0                        1   \n",
       "4                0.0                  0.0                        1   \n",
       "\n",
       "           Team              IPL 4 Franchise  Player cost USD  matches  \\\n",
       "0     Australia               Mumbai Indians          20000.0     40.0   \n",
       "1  South Africa  Royal Challengers Bangalore          20000.0     18.0   \n",
       "2     Australia              Kings XI Punjab          20000.0     23.0   \n",
       "3  South Africa  Royal Challengers Bangalore          20000.0     20.0   \n",
       "4  South Africa             Delhi Daredevils          20000.0     25.0   \n",
       "\n",
       "   innings played   no  runs scored  ...  half_centuries_ipl  fours_ipl  \\\n",
       "0            40.0  3.0        817.0  ...                 0.0        0.0   \n",
       "1            18.0  1.0        356.0  ...                 0.0        0.0   \n",
       "2             8.0  5.0         33.0  ...                 0.0        0.0   \n",
       "3            20.0  0.0        343.0  ...                 0.0        0.0   \n",
       "4            22.0  8.0        213.0  ...                 0.0        0.0   \n",
       "\n",
       "   sixes_ipl  matches_bowl_ipl  balls_bowled_ipl  total_runs_given_ipl  \\\n",
       "0        0.0               0.0               0.0                   0.0   \n",
       "1        0.0               0.0               0.0                   0.0   \n",
       "2        0.0               0.0               0.0                   0.0   \n",
       "3        0.0               0.0               0.0                   0.0   \n",
       "4        0.0               0.0               0.0                   0.0   \n",
       "\n",
       "   wickets_taken_ipl  bowling_avg_ipl  economy_ipl  3wickets_ipl  \n",
       "0                0.0              0.0          0.0           0.0  \n",
       "1                0.0              0.0          0.0           0.0  \n",
       "2                0.0              0.0          0.0           0.0  \n",
       "3                0.0              0.0          0.0           0.0  \n",
       "4                0.0              0.0          0.0           0.0  \n",
       "\n",
       "[5 rows x 51 columns]"
      ]
     },
     "execution_count": 2,
     "metadata": {},
     "output_type": "execute_result"
    }
   ],
   "source": [
    "# reading the cleaned dataset\n",
    "df = pd.read_csv(\"Clean_Data.csv\")\n",
    "\n",
    "# displaying the dataframe\n",
    "df.head()"
   ]
  },
  {
   "cell_type": "markdown",
   "metadata": {},
   "source": [
    "## Correlation Heatmap"
   ]
  },
  {
   "cell_type": "code",
   "execution_count": 3,
   "metadata": {},
   "outputs": [
    {
     "data": {
      "text/plain": [
       "<AxesSubplot:>"
      ]
     },
     "execution_count": 3,
     "metadata": {},
     "output_type": "execute_result"
    },
    {
     "data": {
      "image/png": "[encoded data removed]",
      "text/plain": [
       "<Figure size 1080x1080 with 2 Axes>"
      ]
     },
     "metadata": {
      "needs_background": "light"
     },
     "output_type": "display_data"
    }
   ],
   "source": [
    "# specifying the figure size of the plot\n",
    "plt.figure(figsize=(15, 15))\n",
    "\n",
    "# plotting the heatmap\n",
    "sns.heatmap(df.corr())"
   ]
  },
  {
   "cell_type": "markdown",
   "metadata": {},
   "source": [
    "The target variable shares a moderate significant correlation value with only few of the variables like 'matches_bat_ipl', 'total_runs_scored_ipl', etc."
   ]
  },
  {
   "cell_type": "markdown",
   "metadata": {},
   "source": [
    "## Preprocessing the dataset"
   ]
  },
  {
   "cell_type": "code",
   "execution_count": 4,
   "metadata": {},
   "outputs": [],
   "source": [
    "# one hot encoding the categorical variables with multiple categories\n",
    "data = pd.get_dummies(df, columns=['Team', 'IPL 4 Franchise'])"
   ]
  },
  {
   "cell_type": "code",
   "execution_count": 5,
   "metadata": {},
   "outputs": [
    {
     "data": {
      "text/plain": [
       "(129, 68)"
      ]
     },
     "execution_count": 5,
     "metadata": {},
     "output_type": "execute_result"
    }
   ],
   "source": [
    "# shape of the dataframe\n",
    "data.shape"
   ]
  },
  {
   "cell_type": "code",
   "execution_count": 6,
   "metadata": {},
   "outputs": [
    {
     "data": {
      "text/plain": [
       "Index(['Is Captain(1=yes)', 'Is Wktkeeper(1=Yes)', 'Nationality(1=Overseas)',\n",
       "       'Player cost USD', 'matches', 'innings played', 'no', 'runs scored',\n",
       "       'highest score', 'Is star batsman', 'Is batsman', 'Batting avg',\n",
       "       'Balls faced', 'Strike rate', '100 runs made', '50 runs made', '4s',\n",
       "       '6s', 'Catches per match', 'Catches taken', 'stumping made',\n",
       "       'Is bowler?', 'Number of balls bowled', 'runs given', 'Is star bowler',\n",
       "       'wkts taken', 'Bowling average', 'Bowling econ', 'sr', '4w', '5w',\n",
       "       'Retained', 'matches_bat_ipl', 'total_runs_scored_ipl',\n",
       "       'balls_faced_ipl', 'batting_avg_ipl', 'highest_score_ipl',\n",
       "       'strike_rate_ipl', 'centuries_ipl', 'half_centuries_ipl', 'fours_ipl',\n",
       "       'sixes_ipl', 'matches_bowl_ipl', 'balls_bowled_ipl',\n",
       "       'total_runs_given_ipl', 'wickets_taken_ipl', 'bowling_avg_ipl',\n",
       "       'economy_ipl', '3wickets_ipl', 'Team_Australia', 'Team_Bangladesh',\n",
       "       'Team_England', 'Team_India', 'Team_Netherlands', 'Team_New Zealand',\n",
       "       'Team_South Africa', 'Team_Sri Lanka', 'Team_West Indies',\n",
       "       'IPL 4 Franchise_Chennai Super Kings',\n",
       "       'IPL 4 Franchise_Deccan Chargers', 'IPL 4 Franchise_Delhi Daredevils',\n",
       "       'IPL 4 Franchise_Kings XI Punjab', 'IPL 4 Franchise_Kochi',\n",
       "       'IPL 4 Franchise_Kolkata Knight Riders',\n",
       "       'IPL 4 Franchise_Mumbai Indians', 'IPL 4 Franchise_Pune Warriors',\n",
       "       'IPL 4 Franchise_Rajasthan Royals',\n",
       "       'IPL 4 Franchise_Royal Challengers Bangalore'],\n",
       "      dtype='object')"
      ]
     },
     "execution_count": 6,
     "metadata": {},
     "output_type": "execute_result"
    }
   ],
   "source": [
    "data.columns"
   ]
  },
  {
   "cell_type": "code",
   "execution_count": 12,
   "metadata": {},
   "outputs": [],
   "source": [
    "# making the target and predictor dataframes\n",
    "X = data.drop('Player cost USD', axis=1)\n",
    "y = data['Player cost USD']"
   ]
  },
  {
   "cell_type": "code",
   "execution_count": 13,
   "metadata": {},
   "outputs": [
    {
     "name": "stdout",
     "output_type": "stream",
     "text": [
      "(129, 67)\n",
      "(129,)\n"
     ]
    }
   ],
   "source": [
    "# printing the shapes of the target and predictor dataframes\n",
    "print(X.shape)\n",
    "print(y.shape)"
   ]
  },
  {
   "cell_type": "code",
   "execution_count": 14,
   "metadata": {},
   "outputs": [
    {
     "data": {
      "text/plain": [
       "0        20000.0\n",
       "1        20000.0\n",
       "2        20000.0\n",
       "3        20000.0\n",
       "4        20000.0\n",
       "         ...    \n",
       "124    1900000.0\n",
       "125    2000000.0\n",
       "126    2100000.0\n",
       "127    2100000.0\n",
       "128    2400000.0\n",
       "Name: Player cost USD, Length: 129, dtype: float64"
      ]
     },
     "execution_count": 14,
     "metadata": {},
     "output_type": "execute_result"
    }
   ],
   "source": [
    "y"
   ]
  },
  {
   "cell_type": "code",
   "execution_count": 9,
   "metadata": {},
   "outputs": [],
   "source": [
    "# storing the predictor variable names to be used later \n",
    "cols = X.columns"
   ]
  },
  {
   "cell_type": "markdown",
   "metadata": {},
   "source": [
    "## Scaling and Splitting"
   ]
  },
  {
   "cell_type": "code",
   "execution_count": 15,
   "metadata": {},
   "outputs": [],
   "source": [
    "# scaling the variables\n",
    "X = StandardScaler().fit_transform(X)\n",
    "y = StandardScaler().fit_transform(np.array(y).reshape(-1, 1))"
   ]
  },
  {
   "cell_type": "code",
   "execution_count": 17,
   "metadata": {},
   "outputs": [
    {
     "data": {
      "text/plain": [
       "array([-0.28988552, -0.36273813,  0.76980036, -0.89519161, -0.30074073,\n",
       "       -1.06482497, -0.21017582,  0.74098358, -0.44095855,  0.67040152,\n",
       "        0.11282486, -0.34955847,  1.36968313, -0.40440899, -0.52591768,\n",
       "        0.26577671, -0.23293425,  0.22862799, -0.54750376, -0.28886651,\n",
       "       -1.23669388, -1.06446459, -1.0789597 , -0.38959686, -1.04260135,\n",
       "       -1.32784239,  1.23900783, -1.39599675, -0.6168809 , -0.35899621,\n",
       "       -0.32025631, -0.91655287, -0.67084335, -0.70110046, -0.94453662,\n",
       "       -0.83673312, -1.23304101, -0.17888544, -0.49834449, -0.59794914,\n",
       "       -0.55250839, -0.72567821, -0.68140716, -0.69522571, -0.64595605,\n",
       "       -0.89301793, -0.89441656, -0.47809144,  1.70560573, -0.08838835,\n",
       "       -0.23953507, -0.76980036, -0.08838835, -0.23953507, -0.42835294,\n",
       "       -0.27386128, -0.15430335, -0.40269363, -0.33476703, -0.37628835,\n",
       "       -0.30532006, -0.34891135, -0.30532006,  3.122499  , -0.33476703,\n",
       "       -0.23953507, -0.34891135])"
      ]
     },
     "execution_count": 17,
     "metadata": {},
     "output_type": "execute_result"
    }
   ],
   "source": [
    "X[0]"
   ]
  },
  {
   "cell_type": "code",
   "execution_count": 16,
   "metadata": {},
   "outputs": [
    {
     "data": {
      "text/plain": [
       "(129, 1)"
      ]
     },
     "execution_count": 16,
     "metadata": {},
     "output_type": "execute_result"
    }
   ],
   "source": [
    "y.shape"
   ]
  },
  {
   "cell_type": "code",
   "execution_count": 11,
   "metadata": {},
   "outputs": [
    {
     "data": {
      "text/plain": [
       "array([[-1.04087012],\n",
       "       [-1.04087012],\n",
       "       [-1.04087012],\n",
       "       [-1.04087012],\n",
       "       [-1.04087012],\n",
       "       [-1.04087012],\n",
       "       [-0.98657483],\n",
       "       [-0.98657483],\n",
       "       [-0.98657483],\n",
       "       [-0.98657483],\n",
       "       [-0.98657483],\n",
       "       [-0.94132876],\n",
       "       [-0.93227955],\n",
       "       [-0.93227955],\n",
       "       [-0.93227955],\n",
       "       [-0.93227955],\n",
       "       [-0.92323033],\n",
       "       [-0.89608269],\n",
       "       [-0.89608269],\n",
       "       [-0.89608269],\n",
       "       [-0.89608269],\n",
       "       [-0.89608269],\n",
       "       [-0.89608269],\n",
       "       [-0.89608269],\n",
       "       [-0.89608269],\n",
       "       [-0.89608269],\n",
       "       [-0.89608269],\n",
       "       [-0.87798426],\n",
       "       [-0.85988583],\n",
       "       [-0.8417874 ],\n",
       "       [-0.82368897],\n",
       "       [-0.80559054],\n",
       "       [-0.80559054],\n",
       "       [-0.80559054],\n",
       "       [-0.78749211],\n",
       "       [-0.73319683],\n",
       "       [-0.7150984 ],\n",
       "       [-0.7150984 ],\n",
       "       [-0.7150984 ],\n",
       "       [-0.7150984 ],\n",
       "       [-0.69699997],\n",
       "       [-0.64270468],\n",
       "       [-0.62460625],\n",
       "       [-0.62460625],\n",
       "       [-0.58840939],\n",
       "       [-0.58840939],\n",
       "       [-0.55221253],\n",
       "       [-0.55221253],\n",
       "       [-0.53411411],\n",
       "       [-0.53411411],\n",
       "       [-0.53411411],\n",
       "       [-0.53411411],\n",
       "       [-0.53411411],\n",
       "       [-0.53411411],\n",
       "       [-0.48886803],\n",
       "       [-0.48886803],\n",
       "       [-0.44362196],\n",
       "       [-0.44362196],\n",
       "       [-0.39837589],\n",
       "       [-0.35312981],\n",
       "       [-0.35312981],\n",
       "       [-0.35312981],\n",
       "       [-0.35312981],\n",
       "       [-0.35312981],\n",
       "       [-0.30788374],\n",
       "       [-0.30788374],\n",
       "       [-0.30788374],\n",
       "       [-0.26263767],\n",
       "       [-0.2173916 ],\n",
       "       [-0.2173916 ],\n",
       "       [-0.2173916 ],\n",
       "       [-0.2173916 ],\n",
       "       [-0.17214552],\n",
       "       [-0.17214552],\n",
       "       [-0.17214552],\n",
       "       [-0.17214552],\n",
       "       [-0.17214552],\n",
       "       [-0.17214552],\n",
       "       [-0.17214552],\n",
       "       [-0.08165338],\n",
       "       [ 0.09933091],\n",
       "       [ 0.09933091],\n",
       "       [ 0.09933091],\n",
       "       [ 0.18982306],\n",
       "       [ 0.18982306],\n",
       "       [ 0.18982306],\n",
       "       [ 0.18982306],\n",
       "       [ 0.18982306],\n",
       "       [ 0.2803152 ],\n",
       "       [ 0.37080735],\n",
       "       [ 0.37080735],\n",
       "       [ 0.46129949],\n",
       "       [ 0.46129949],\n",
       "       [ 0.46129949],\n",
       "       [ 0.46129949],\n",
       "       [ 0.55179164],\n",
       "       [ 0.55179164],\n",
       "       [ 0.55179164],\n",
       "       [ 0.55179164],\n",
       "       [ 0.55179164],\n",
       "       [ 0.55179164],\n",
       "       [ 0.55179164],\n",
       "       [ 0.55179164],\n",
       "       [ 0.64228379],\n",
       "       [ 0.64228379],\n",
       "       [ 0.64228379],\n",
       "       [ 0.73277593],\n",
       "       [ 0.91376022],\n",
       "       [ 0.91376022],\n",
       "       [ 0.91376022],\n",
       "       [ 0.91376022],\n",
       "       [ 1.09474451],\n",
       "       [ 1.2757288 ],\n",
       "       [ 1.2757288 ],\n",
       "       [ 1.2757288 ],\n",
       "       [ 1.45671309],\n",
       "       [ 1.63769739],\n",
       "       [ 1.81868168],\n",
       "       [ 2.18065026],\n",
       "       [ 2.18065026],\n",
       "       [ 2.18065026],\n",
       "       [ 2.18065026],\n",
       "       [ 2.18065026],\n",
       "       [ 2.18065026],\n",
       "       [ 2.36163455],\n",
       "       [ 2.54261884],\n",
       "       [ 2.72360313],\n",
       "       [ 2.72360313],\n",
       "       [ 3.266556  ]])"
      ]
     },
     "execution_count": 11,
     "metadata": {},
     "output_type": "execute_result"
    }
   ],
   "source": [
    "y"
   ]
  },
  {
   "cell_type": "code",
   "execution_count": 18,
   "metadata": {},
   "outputs": [],
   "source": [
    "# splitting into train and test datasets\n",
    "X_train, X_test, y_train, y_test = train_test_split(X, y, test_size=0.3, random_state=42)"
   ]
  },
  {
   "cell_type": "markdown",
   "metadata": {},
   "source": [
    "## Baseline Model"
   ]
  },
  {
   "cell_type": "code",
   "execution_count": 19,
   "metadata": {},
   "outputs": [],
   "source": [
    "# finding the baseline predictions\n",
    "y_pred_bl = np.repeat(np.mean(y_train), len(y_test))"
   ]
  },
  {
   "cell_type": "code",
   "execution_count": 23,
   "metadata": {},
   "outputs": [
    {
     "data": {
      "text/plain": [
       "array([0.03628805, 0.03628805, 0.03628805, 0.03628805, 0.03628805,\n",
       "       0.03628805, 0.03628805, 0.03628805, 0.03628805, 0.03628805,\n",
       "       0.03628805, 0.03628805, 0.03628805, 0.03628805, 0.03628805,\n",
       "       0.03628805, 0.03628805, 0.03628805, 0.03628805, 0.03628805,\n",
       "       0.03628805, 0.03628805, 0.03628805, 0.03628805, 0.03628805,\n",
       "       0.03628805, 0.03628805, 0.03628805, 0.03628805, 0.03628805,\n",
       "       0.03628805, 0.03628805, 0.03628805, 0.03628805, 0.03628805,\n",
       "       0.03628805, 0.03628805, 0.03628805, 0.03628805])"
      ]
     },
     "execution_count": 23,
     "metadata": {},
     "output_type": "execute_result"
    }
   ],
   "source": [
    "y_pred_bl"
   ]
  },
  {
   "cell_type": "code",
   "execution_count": 22,
   "metadata": {},
   "outputs": [
    {
     "data": {
      "text/plain": [
       "0.9285636773921593"
      ]
     },
     "execution_count": 22,
     "metadata": {},
     "output_type": "execute_result"
    }
   ],
   "source": [
    "# finding the metrics for the Baseline model\n",
    "mean_squared_error(y_test, y_pred_bl)"
   ]
  },
  {
   "cell_type": "code",
   "execution_count": 24,
   "metadata": {},
   "outputs": [
    {
     "data": {
      "text/plain": [
       "-0.015760026342164668"
      ]
     },
     "execution_count": 24,
     "metadata": {},
     "output_type": "execute_result"
    }
   ],
   "source": [
    "# finding the metrics for the Baseline model\n",
    "r2_score(y_test, y_pred_bl)"
   ]
  },
  {
   "cell_type": "markdown",
   "metadata": {},
   "source": [
    "## Linear Regression Model 1 - All variables"
   ]
  },
  {
   "cell_type": "code",
   "execution_count": 25,
   "metadata": {},
   "outputs": [],
   "source": [
    "# initialising the model \n",
    "model = LinearRegression()"
   ]
  },
  {
   "cell_type": "code",
   "execution_count": 26,
   "metadata": {},
   "outputs": [
    {
     "data": {
      "text/plain": [
       "LinearRegression()"
      ]
     },
     "execution_count": 26,
     "metadata": {},
     "output_type": "execute_result"
    }
   ],
   "source": [
    "# fitting the model\n",
    "model.fit(X_train, y_train)"
   ]
  },
  {
   "cell_type": "code",
   "execution_count": 27,
   "metadata": {},
   "outputs": [],
   "source": [
    "# finding predictions for the test set\n",
    "y_pred_lr = model.predict(X_test)"
   ]
  },
  {
   "cell_type": "code",
   "execution_count": 28,
   "metadata": {},
   "outputs": [
    {
     "data": {
      "text/plain": [
       "1.205207911302471"
      ]
     },
     "execution_count": 28,
     "metadata": {},
     "output_type": "execute_result"
    }
   ],
   "source": [
    "# finding the metrics\n",
    "mean_squared_error(y_test, y_pred_lr)"
   ]
  },
  {
   "cell_type": "code",
   "execution_count": 29,
   "metadata": {},
   "outputs": [
    {
     "data": {
      "text/plain": [
       "-0.3183824109623956"
      ]
     },
     "execution_count": 29,
     "metadata": {},
     "output_type": "execute_result"
    }
   ],
   "source": [
    "# finding the metrics \n",
    "r2_score(y_test, y_pred_lr)"
   ]
  },
  {
   "cell_type": "markdown",
   "metadata": {},
   "source": [
    "This model is even worse than the baseline model. \n",
    "\n",
    "The feature importances of each of the variables in the model is plotted to understand which of the predictors might have some influence over the target variable."
   ]
  },
  {
   "cell_type": "markdown",
   "metadata": {},
   "source": [
    "# Finetuning with RFE"
   ]
  },
  {
   "cell_type": "code",
   "execution_count": 31,
   "metadata": {},
   "outputs": [
    {
     "data": {
      "text/plain": [
       "RFE(estimator=LinearRegression(), n_features_to_select=15)"
      ]
     },
     "execution_count": 31,
     "metadata": {},
     "output_type": "execute_result"
    }
   ],
   "source": [
    "# define the method\n",
    "rfe = RFE(estimator=LinearRegression(), n_features_to_select=15)\n",
    "\n",
    "# fit the data\n",
    "rfe.fit(X_train, y_train)"
   ]
  },
  {
   "cell_type": "code",
   "execution_count": 32,
   "metadata": {
    "scrolled": true
   },
   "outputs": [
    {
     "name": "stdout",
     "output_type": "stream",
     "text": [
      "Column: Is Captain(1=yes), Selected True, Rank: 1.000\n",
      "Column: Is Wktkeeper(1=Yes), Selected False, Rank: 7.000\n",
      "Column: Nationality(1=Overseas), Selected False, Rank: 16.000\n",
      "Column: matches, Selected False, Rank: 15.000\n",
      "Column: innings played, Selected False, Rank: 5.000\n",
      "Column: no, Selected False, Rank: 27.000\n",
      "Column: runs scored, Selected True, Rank: 1.000\n",
      "Column: highest score, Selected False, Rank: 32.000\n",
      "Column: Is star batsman, Selected False, Rank: 17.000\n",
      "Column: Is batsman, Selected False, Rank: 43.000\n",
      "Column: Batting avg, Selected False, Rank: 18.000\n",
      "Column: Balls faced, Selected True, Rank: 1.000\n",
      "Column: Strike rate, Selected False, Rank: 33.000\n",
      "Column: 100 runs made, Selected False, Rank: 36.000\n",
      "Column: 50 runs made, Selected False, Rank: 44.000\n",
      "Column: 4s, Selected True, Rank: 1.000\n",
      "Column: 6s, Selected True, Rank: 1.000\n",
      "Column: Catches per match, Selected False, Rank: 39.000\n",
      "Column: Catches taken, Selected False, Rank: 38.000\n",
      "Column: stumping made, Selected False, Rank: 6.000\n",
      "Column: Is bowler?, Selected False, Rank: 13.000\n",
      "Column: Number of balls bowled, Selected True, Rank: 1.000\n",
      "Column: runs given, Selected True, Rank: 1.000\n",
      "Column: Is star bowler, Selected False, Rank: 31.000\n",
      "Column: wkts taken, Selected False, Rank: 34.000\n",
      "Column: Bowling average, Selected True, Rank: 1.000\n",
      "Column: Bowling econ, Selected False, Rank: 14.000\n",
      "Column: sr, Selected True, Rank: 1.000\n",
      "Column: 4w, Selected False, Rank: 8.000\n",
      "Column: 5w, Selected False, Rank: 24.000\n",
      "Column: Retained, Selected False, Rank: 45.000\n",
      "Column: matches_bat_ipl, Selected True, Rank: 1.000\n",
      "Column: total_runs_scored_ipl, Selected False, Rank: 40.000\n",
      "Column: balls_faced_ipl, Selected True, Rank: 1.000\n",
      "Column: batting_avg_ipl, Selected False, Rank: 12.000\n",
      "Column: highest_score_ipl, Selected False, Rank: 9.000\n",
      "Column: strike_rate_ipl, Selected False, Rank: 42.000\n",
      "Column: centuries_ipl, Selected False, Rank: 19.000\n",
      "Column: half_centuries_ipl, Selected True, Rank: 1.000\n",
      "Column: fours_ipl, Selected False, Rank: 28.000\n",
      "Column: sixes_ipl, Selected False, Rank: 53.000\n",
      "Column: matches_bowl_ipl, Selected True, Rank: 1.000\n",
      "Column: balls_bowled_ipl, Selected False, Rank: 3.000\n",
      "Column: total_runs_given_ipl, Selected True, Rank: 1.000\n",
      "Column: wickets_taken_ipl, Selected True, Rank: 1.000\n",
      "Column: bowling_avg_ipl, Selected False, Rank: 11.000\n",
      "Column: economy_ipl, Selected False, Rank: 22.000\n",
      "Column: 3wickets_ipl, Selected False, Rank: 2.000\n",
      "Column: Team_Australia, Selected False, Rank: 48.000\n",
      "Column: Team_Bangladesh, Selected False, Rank: 46.000\n",
      "Column: Team_England, Selected False, Rank: 30.000\n",
      "Column: Team_India, Selected False, Rank: 4.000\n",
      "Column: Team_Netherlands, Selected False, Rank: 20.000\n",
      "Column: Team_New Zealand, Selected False, Rank: 10.000\n",
      "Column: Team_South Africa, Selected False, Rank: 47.000\n",
      "Column: Team_Sri Lanka, Selected False, Rank: 37.000\n",
      "Column: Team_West Indies, Selected False, Rank: 49.000\n",
      "Column: IPL 4 Franchise_Chennai Super Kings, Selected False, Rank: 26.000\n",
      "Column: IPL 4 Franchise_Deccan Chargers, Selected False, Rank: 23.000\n",
      "Column: IPL 4 Franchise_Delhi Daredevils, Selected False, Rank: 21.000\n",
      "Column: IPL 4 Franchise_Kings XI Punjab, Selected False, Rank: 29.000\n",
      "Column: IPL 4 Franchise_Kochi, Selected False, Rank: 25.000\n",
      "Column: IPL 4 Franchise_Kolkata Knight Riders, Selected False, Rank: 41.000\n",
      "Column: IPL 4 Franchise_Mumbai Indians, Selected False, Rank: 51.000\n",
      "Column: IPL 4 Franchise_Pune Warriors, Selected False, Rank: 50.000\n",
      "Column: IPL 4 Franchise_Rajasthan Royals, Selected False, Rank: 35.000\n",
      "Column: IPL 4 Franchise_Royal Challengers Bangalore, Selected False, Rank: 52.000\n"
     ]
    }
   ],
   "source": [
    "# summarize all features\n",
    "for i in range(X.shape[1]):\n",
    "    print('Column: %s, Selected %s, Rank: %.3f' % (cols[i], rfe.support_[i], rfe.ranking_[i]))"
   ]
  },
  {
   "cell_type": "code",
   "execution_count": 33,
   "metadata": {},
   "outputs": [],
   "source": [
    "# initialise empty list to store the predictors\n",
    "variables = []"
   ]
  },
  {
   "cell_type": "code",
   "execution_count": 34,
   "metadata": {},
   "outputs": [],
   "source": [
    "# filtering out the variables which had a high coefficient value\n",
    "for i in range(len(cols)):\n",
    "    if rfe.support_[i] == True:\n",
    "        variables.append(cols[i])"
   ]
  },
  {
   "cell_type": "code",
   "execution_count": 35,
   "metadata": {},
   "outputs": [
    {
     "name": "stdout",
     "output_type": "stream",
     "text": [
      "['Is Captain(1=yes)', 'runs scored', 'Balls faced', '4s', '6s', 'Number of balls bowled', 'runs given', 'Bowling average', 'sr', 'matches_bat_ipl', 'balls_faced_ipl', 'half_centuries_ipl', 'matches_bowl_ipl', 'total_runs_given_ipl', 'wickets_taken_ipl']\n"
     ]
    }
   ],
   "source": [
    "# displaying the variables\n",
    "print(variables)"
   ]
  },
  {
   "cell_type": "code",
   "execution_count": 36,
   "metadata": {},
   "outputs": [
    {
     "data": {
      "text/plain": [
       "15"
      ]
     },
     "execution_count": 36,
     "metadata": {},
     "output_type": "execute_result"
    }
   ],
   "source": [
    "# there are 15 such variables\n",
    "len(variables)"
   ]
  },
  {
   "cell_type": "markdown",
   "metadata": {},
   "source": [
    "## Linear Regression Model 2 - 15 variables selected using RFE"
   ]
  },
  {
   "cell_type": "code",
   "execution_count": 37,
   "metadata": {},
   "outputs": [],
   "source": [
    "# making the predictor and target dataframes\n",
    "X1 = data[variables]\n",
    "y1 = data['Player cost USD']"
   ]
  },
  {
   "cell_type": "code",
   "execution_count": 38,
   "metadata": {},
   "outputs": [],
   "source": [
    "# scaling the predictor variables\n",
    "X1 = StandardScaler().fit_transform(X1)\n",
    "y1 = StandardScaler().fit_transform(np.array(y1).reshape(-1, 1))"
   ]
  },
  {
   "cell_type": "code",
   "execution_count": 39,
   "metadata": {},
   "outputs": [],
   "source": [
    "# splitting into train and test datasets\n",
    "X_train1, X_test1, y_train1, y_test1 = train_test_split(X1, y1, test_size=0.3, random_state=42)"
   ]
  },
  {
   "cell_type": "code",
   "execution_count": 40,
   "metadata": {},
   "outputs": [],
   "source": [
    "# initialising the model \n",
    "model1 = LinearRegression()"
   ]
  },
  {
   "cell_type": "code",
   "execution_count": 41,
   "metadata": {},
   "outputs": [
    {
     "data": {
      "text/plain": [
       "LinearRegression()"
      ]
     },
     "execution_count": 41,
     "metadata": {},
     "output_type": "execute_result"
    }
   ],
   "source": [
    "# fitting the model\n",
    "model1.fit(X_train1, y_train1)"
   ]
  },
  {
   "cell_type": "code",
   "execution_count": 42,
   "metadata": {},
   "outputs": [],
   "source": [
    "# finding predictions for the test set\n",
    "y_pred_lr1 = model1.predict(X_test1)"
   ]
  },
  {
   "cell_type": "code",
   "execution_count": 43,
   "metadata": {},
   "outputs": [
    {
     "data": {
      "text/plain": [
       "0.4730937943566677"
      ]
     },
     "execution_count": 43,
     "metadata": {},
     "output_type": "execute_result"
    }
   ],
   "source": [
    "# finding the metrics\n",
    "mean_squared_error(y_test1, y_pred_lr1)"
   ]
  },
  {
   "cell_type": "code",
   "execution_count": 44,
   "metadata": {},
   "outputs": [
    {
     "data": {
      "text/plain": [
       "0.4824805484879059"
      ]
     },
     "execution_count": 44,
     "metadata": {},
     "output_type": "execute_result"
    }
   ],
   "source": [
    "# finding the metrics\n",
    "r2_score(y_test1, y_pred_lr1)"
   ]
  },
  {
   "cell_type": "code",
   "execution_count": 49,
   "metadata": {},
   "outputs": [
    {
     "data": {
      "text/plain": [
       "array([[ 0.04531956],\n",
       "       [ 0.09308429],\n",
       "       [-0.74180249],\n",
       "       [-0.37632088],\n",
       "       [ 0.88533739],\n",
       "       [-0.02646064],\n",
       "       [ 0.95458274],\n",
       "       [-0.31389413],\n",
       "       [ 0.25632927],\n",
       "       [ 0.08213079],\n",
       "       [ 2.0546575 ],\n",
       "       [-0.90850313],\n",
       "       [-0.34778027],\n",
       "       [-0.67672313],\n",
       "       [ 0.47771748],\n",
       "       [ 0.25215937],\n",
       "       [ 0.33372865],\n",
       "       [-0.67832387],\n",
       "       [ 0.60510942],\n",
       "       [-0.42492165],\n",
       "       [-0.66888149],\n",
       "       [-0.60924003],\n",
       "       [ 1.61681612],\n",
       "       [-0.71123933],\n",
       "       [ 1.06453999],\n",
       "       [-0.76155446],\n",
       "       [-0.37035203],\n",
       "       [ 0.34786662],\n",
       "       [-0.53897703],\n",
       "       [-0.99756975],\n",
       "       [-0.12871552],\n",
       "       [-0.57771077],\n",
       "       [ 1.09917603],\n",
       "       [-0.51576544],\n",
       "       [-0.11476931],\n",
       "       [-0.40217707],\n",
       "       [-0.06155636],\n",
       "       [-0.72009374],\n",
       "       [ 0.09465046]])"
      ]
     },
     "execution_count": 49,
     "metadata": {},
     "output_type": "execute_result"
    }
   ],
   "source": [
    "y_pred_lr1"
   ]
  },
  {
   "cell_type": "markdown",
   "metadata": {},
   "source": [
    "## Inverse transform"
   ]
  },
  {
   "cell_type": "code",
   "execution_count": 46,
   "metadata": {},
   "outputs": [],
   "source": [
    "y1 = data['Player cost USD']"
   ]
  },
  {
   "cell_type": "code",
   "execution_count": 48,
   "metadata": {},
   "outputs": [],
   "source": [
    "scaler = StandardScaler().fit(np.array(y1).reshape(-1, 1))"
   ]
  },
  {
   "cell_type": "code",
   "execution_count": 51,
   "metadata": {},
   "outputs": [],
   "source": [
    "#scaler.inverse_transform(y_pred_lr1)"
   ]
  },
  {
   "cell_type": "markdown",
   "metadata": {},
   "source": [
    "# Finetuning using Random Forests"
   ]
  },
  {
   "cell_type": "code",
   "execution_count": 52,
   "metadata": {
    "scrolled": true
   },
   "outputs": [
    {
     "name": "stdout",
     "output_type": "stream",
     "text": [
      "Feature: Is Captain(1=yes), Score: 0.09843\n",
      "Feature: Is Wktkeeper(1=Yes), Score: 0.00014\n",
      "Feature: Nationality(1=Overseas), Score: 0.02368\n",
      "Feature: matches, Score: 0.01617\n",
      "Feature: innings played, Score: 0.00923\n",
      "Feature: no, Score: 0.03184\n",
      "Feature: runs scored, Score: 0.01430\n",
      "Feature: highest score, Score: 0.00844\n",
      "Feature: Is star batsman, Score: 0.00346\n",
      "Feature: Is batsman, Score: 0.00005\n",
      "Feature: Batting avg, Score: 0.03326\n",
      "Feature: Balls faced, Score: 0.00900\n",
      "Feature: Strike rate, Score: 0.01122\n",
      "Feature: 100 runs made, Score: 0.00131\n",
      "Feature: 50 runs made, Score: 0.00911\n",
      "Feature: 4s, Score: 0.01937\n",
      "Feature: 6s, Score: 0.00538\n",
      "Feature: Catches per match, Score: 0.02142\n",
      "Feature: Catches taken, Score: 0.02746\n",
      "Feature: stumping made, Score: 0.00120\n",
      "Feature: Is bowler?, Score: 0.00081\n",
      "Feature: Number of balls bowled, Score: 0.00648\n",
      "Feature: runs given, Score: 0.00531\n",
      "Feature: Is star bowler, Score: 0.00055\n",
      "Feature: wkts taken, Score: 0.00455\n",
      "Feature: Bowling average, Score: 0.01733\n",
      "Feature: Bowling econ, Score: 0.00876\n",
      "Feature: sr, Score: 0.02397\n",
      "Feature: 4w, Score: 0.01325\n",
      "Feature: 5w, Score: 0.00241\n",
      "Feature: Retained, Score: 0.00644\n",
      "Feature: matches_bat_ipl, Score: 0.18135\n",
      "Feature: total_runs_scored_ipl, Score: 0.00993\n",
      "Feature: balls_faced_ipl, Score: 0.10911\n",
      "Feature: batting_avg_ipl, Score: 0.00952\n",
      "Feature: highest_score_ipl, Score: 0.01020\n",
      "Feature: strike_rate_ipl, Score: 0.04583\n",
      "Feature: centuries_ipl, Score: 0.00149\n",
      "Feature: half_centuries_ipl, Score: 0.00532\n",
      "Feature: fours_ipl, Score: 0.05368\n",
      "Feature: sixes_ipl, Score: 0.00632\n",
      "Feature: matches_bowl_ipl, Score: 0.02075\n",
      "Feature: balls_bowled_ipl, Score: 0.00733\n",
      "Feature: total_runs_given_ipl, Score: 0.02278\n",
      "Feature: wickets_taken_ipl, Score: 0.00949\n",
      "Feature: bowling_avg_ipl, Score: 0.00329\n",
      "Feature: economy_ipl, Score: 0.01425\n",
      "Feature: 3wickets_ipl, Score: 0.00345\n",
      "Feature: Team_Australia, Score: 0.00220\n",
      "Feature: Team_Bangladesh, Score: 0.00033\n",
      "Feature: Team_England, Score: 0.00297\n",
      "Feature: Team_India, Score: 0.01868\n",
      "Feature: Team_Netherlands, Score: 0.00000\n",
      "Feature: Team_New Zealand, Score: 0.00082\n",
      "Feature: Team_South Africa, Score: 0.00096\n",
      "Feature: Team_Sri Lanka, Score: 0.00047\n",
      "Feature: Team_West Indies, Score: 0.00001\n",
      "Feature: IPL 4 Franchise_Chennai Super Kings, Score: 0.00130\n",
      "Feature: IPL 4 Franchise_Deccan Chargers, Score: 0.00263\n",
      "Feature: IPL 4 Franchise_Delhi Daredevils, Score: 0.00045\n",
      "Feature: IPL 4 Franchise_Kings XI Punjab, Score: 0.00057\n",
      "Feature: IPL 4 Franchise_Kochi, Score: 0.00413\n",
      "Feature: IPL 4 Franchise_Kolkata Knight Riders, Score: 0.00553\n",
      "Feature: IPL 4 Franchise_Mumbai Indians, Score: 0.00385\n",
      "Feature: IPL 4 Franchise_Pune Warriors, Score: 0.00031\n",
      "Feature: IPL 4 Franchise_Rajasthan Royals, Score: 0.00317\n",
      "Feature: IPL 4 Franchise_Royal Challengers Bangalore, Score: 0.00318\n"
     ]
    },
    {
     "data": {
      "image/png": "[encoded data removed]",
      "text/plain": [
       "<Figure size 720x720 with 1 Axes>"
      ]
     },
     "metadata": {
      "needs_background": "light"
     },
     "output_type": "display_data"
    }
   ],
   "source": [
    "# define the model\n",
    "model = RandomForestRegressor()\n",
    "# fit the model\n",
    "model.fit(X_train, y_train.reshape(-1))\n",
    "# get importance\n",
    "importance = model.feature_importances_\n",
    "# summarize feature importance\n",
    "for i,v in enumerate(importance):\n",
    "    print('Feature: %s, Score: %.5f' % (cols[i],v))\n",
    "# plot feature importance\n",
    "plt.figure(figsize=(10, 10))\n",
    "plt.bar([x for x in range(len(importance))], importance)\n",
    "plt.xticks(range(len(cols)), cols, rotation=90)\n",
    "plt.show()"
   ]
  },
  {
   "cell_type": "code",
   "execution_count": 53,
   "metadata": {},
   "outputs": [],
   "source": [
    "# initialise empty list to store the predictors\n",
    "variables = []"
   ]
  },
  {
   "cell_type": "code",
   "execution_count": 54,
   "metadata": {},
   "outputs": [],
   "source": [
    "# filtering out the variables which had a high coefficient value\n",
    "for i in range(len(cols)):\n",
    "    if importance[i] >= 0.02:\n",
    "        variables.append(cols[i])"
   ]
  },
  {
   "cell_type": "code",
   "execution_count": 55,
   "metadata": {},
   "outputs": [
    {
     "name": "stdout",
     "output_type": "stream",
     "text": [
      "['Is Captain(1=yes)', 'Nationality(1=Overseas)', 'no', 'Batting avg', 'Catches per match', 'Catches taken', 'sr', 'matches_bat_ipl', 'balls_faced_ipl', 'strike_rate_ipl', 'fours_ipl', 'matches_bowl_ipl', 'total_runs_given_ipl']\n"
     ]
    }
   ],
   "source": [
    "print(variables)"
   ]
  },
  {
   "cell_type": "code",
   "execution_count": 56,
   "metadata": {},
   "outputs": [
    {
     "data": {
      "text/plain": [
       "13"
      ]
     },
     "execution_count": 56,
     "metadata": {},
     "output_type": "execute_result"
    }
   ],
   "source": [
    "len(variables)"
   ]
  },
  {
   "cell_type": "markdown",
   "metadata": {},
   "source": [
    "## Linear Regression Model 3 - variables selected using Random Forest"
   ]
  },
  {
   "cell_type": "code",
   "execution_count": 57,
   "metadata": {},
   "outputs": [],
   "source": [
    "# making the predictor and target dataframes\n",
    "X1 = data[variables]\n",
    "y1 = data['Player cost USD']"
   ]
  },
  {
   "cell_type": "code",
   "execution_count": 58,
   "metadata": {},
   "outputs": [],
   "source": [
    "# scaling the predictor variables\n",
    "X1 = StandardScaler().fit_transform(X1)\n",
    "y1 = StandardScaler().fit_transform(np.array(y1).reshape(-1, 1))"
   ]
  },
  {
   "cell_type": "code",
   "execution_count": 59,
   "metadata": {},
   "outputs": [],
   "source": [
    "# splitting into train and test datasets\n",
    "X_train1, X_test1, y_train1, y_test1 = train_test_split(X1, y1, test_size=0.3, random_state=42)"
   ]
  },
  {
   "cell_type": "code",
   "execution_count": 60,
   "metadata": {},
   "outputs": [],
   "source": [
    "# initialising the model \n",
    "model1 = LinearRegression()"
   ]
  },
  {
   "cell_type": "code",
   "execution_count": 61,
   "metadata": {},
   "outputs": [
    {
     "data": {
      "text/plain": [
       "LinearRegression()"
      ]
     },
     "execution_count": 61,
     "metadata": {},
     "output_type": "execute_result"
    }
   ],
   "source": [
    "# fitting the model\n",
    "model1.fit(X_train1, y_train1)"
   ]
  },
  {
   "cell_type": "code",
   "execution_count": 62,
   "metadata": {},
   "outputs": [],
   "source": [
    "# finding predictions for the test set\n",
    "y_pred_lr1 = model1.predict(X_test1)"
   ]
  },
  {
   "cell_type": "code",
   "execution_count": 63,
   "metadata": {},
   "outputs": [
    {
     "data": {
      "text/plain": [
       "0.45705592633108466"
      ]
     },
     "execution_count": 63,
     "metadata": {},
     "output_type": "execute_result"
    }
   ],
   "source": [
    "# finding the metrics\n",
    "mean_squared_error(y_test1, y_pred_lr1)"
   ]
  },
  {
   "cell_type": "code",
   "execution_count": 64,
   "metadata": {},
   "outputs": [
    {
     "data": {
      "text/plain": [
       "0.5000244452014733"
      ]
     },
     "execution_count": 64,
     "metadata": {},
     "output_type": "execute_result"
    }
   ],
   "source": [
    "# finding the metrics\n",
    "r2_score(y_test1, y_pred_lr1)"
   ]
  },
  {
   "cell_type": "code",
   "execution_count": null,
   "metadata": {},
   "outputs": [],
   "source": []
  }
 ],
 "metadata": {
  "kernelspec": {
   "display_name": "Python 3",
   "language": "python",
   "name": "python3"
  },
  "language_info": {
   "codemirror_mode": {
    "name": "ipython",
    "version": 3
   },
   "file_extension": ".py",
   "mimetype": "text/x-python",
   "name": "python",
   "nbconvert_exporter": "python",
   "pygments_lexer": "ipython3",
   "version": "3.8.5"
  }
 },
 "nbformat": 4,
 "nbformat_minor": 4
}
