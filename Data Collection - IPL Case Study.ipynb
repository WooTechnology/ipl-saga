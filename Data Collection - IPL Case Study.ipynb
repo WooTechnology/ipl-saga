{
 "cells": [
  {
   "cell_type": "code",
   "execution_count": null,
   "metadata": {},
   "outputs": [],
   "source": [
    "# importing libraries\n",
    "import pandas as pd              # for data manipulation\n",
    "import numpy as np               # for mathematical operations"
   ]
  },
  {
   "cell_type": "markdown",
   "metadata": {},
   "source": [
    "The \"deliveries.csv\" file stores the ball by ball information of the Indian Premier League from 2008 to 2019."
   ]
  },
  {
   "cell_type": "code",
   "execution_count": null,
   "metadata": {},
   "outputs": [],
   "source": [
    "# reading the \"deliveries\" dataset\n",
    "deli = pd.read_csv(\"deliveries.csv\")\n",
    "\n",
    "# displaying the dataframe\n",
    "deli.head()"
   ]
  },
  {
   "cell_type": "markdown",
   "metadata": {},
   "source": [
    "The \"cricket.xls\" file stores the performance details and auction prices in IPL 2011 of 129 cricket players. "
   ]
  },
  {
   "cell_type": "code",
   "execution_count": null,
   "metadata": {},
   "outputs": [],
   "source": [
    "# reading the \"cricket\" dataset\n",
    "df = pd.read_excel(\"cricket.xls\")\n",
    "\n",
    "# displaying the dataframe\n",
    "df.tail()"
   ]
  },
  {
   "cell_type": "markdown",
   "metadata": {},
   "source": [
    "### Using the 2 dataframes, we will create one resultant dataframe which stores the auction prices, general performance details, and performance details, wherever available, in IPL for the 129 cricket players. "
   ]
  },
  {
   "cell_type": "markdown",
   "metadata": {},
   "source": [
    "The last few rows of the \"cricket\" dataframe do not store any information and hence need to be removed."
   ]
  },
  {
   "cell_type": "code",
   "execution_count": null,
   "metadata": {},
   "outputs": [],
   "source": [
    "# filtering out the unnecessary rows from the dataframe\n",
    "df = df[df.index <129]"
   ]
  },
  {
   "cell_type": "code",
   "execution_count": null,
   "metadata": {},
   "outputs": [],
   "source": [
    "# displaying the dataframe\n",
    "df.tail()"
   ]
  },
  {
   "cell_type": "markdown",
   "metadata": {},
   "source": [
    "Since the auction prices are available for the year 2011, the IPL data will be studied for 2010, i.e., one year prior to 2011. \n",
    "\n",
    "The \"matches.csv\" file is read to find out the match ids of the games that took place in IPL 2010."
   ]
  },
  {
   "cell_type": "code",
   "execution_count": null,
   "metadata": {},
   "outputs": [],
   "source": [
    "# reading the \"matches\" dataframe\n",
    "matches = pd.read_csv(\"matches.csv\")\n",
    "\n",
    "# displaying the dataframe\n",
    "matches.head()"
   ]
  },
  {
   "cell_type": "markdown",
   "metadata": {},
   "source": [
    "Using the column \"season\" and specifying its value to 2010, the dataframe is filtered out and the match ids are extracted."
   ]
  },
  {
   "cell_type": "code",
   "execution_count": null,
   "metadata": {},
   "outputs": [],
   "source": [
    "# filtering out the dataframe and extracting the match ids\n",
    "match_id = matches[matches.season == 2010].id.values"
   ]
  },
  {
   "cell_type": "code",
   "execution_count": null,
   "metadata": {},
   "outputs": [],
   "source": [
    "# 60 matches took place in IPL 2010\n",
    "len(match_id)"
   ]
  },
  {
   "cell_type": "markdown",
   "metadata": {},
   "source": [
    "Next, the deliveries that took place in IPL 2010 are filtered using the match ids that was created in the previous step. "
   ]
  },
  {
   "cell_type": "code",
   "execution_count": null,
   "metadata": {},
   "outputs": [],
   "source": [
    "# filtering the dataframe for deliveries of IPL 2010\n",
    "deli = deli[deli.match_id.isin(match_id)]\n",
    "\n",
    "# displaying the dataframe\n",
    "deli.head()"
   ]
  },
  {
   "cell_type": "markdown",
   "metadata": {},
   "source": [
    "The names of all the cricket players are extracted from the \"cricket\" dataframe and stored."
   ]
  },
  {
   "cell_type": "code",
   "execution_count": null,
   "metadata": {},
   "outputs": [],
   "source": [
    "# extracting the names\n",
    "players = df.Name\n",
    "\n",
    "# displaying the names\n",
    "players"
   ]
  },
  {
   "cell_type": "markdown",
   "metadata": {},
   "source": [
    "It is to be noted that the naming conventions used in the two dataframes are different. While the \"cricket\" dataset uses the full name, the \"deliveries\" dataset uses the full surname and initials of the first name. Hence, the surnames need to be used to link the records in the two dataframes. Again, in the \"cricket\" dataset, the players who were retained by their IPL teams have the string '(retained)' added at the end of their names, which needs to be removed. \n",
    "\n"
   ]
  },
  {
   "cell_type": "code",
   "execution_count": null,
   "metadata": {},
   "outputs": [],
   "source": [
    "# function to extract the surname\n",
    "def get_surname(l):\n",
    "    \n",
    "    # empty dictionary to store the player names and their surnames\n",
    "    names = {}\n",
    "    \n",
    "    # iterating over the player names\n",
    "    for name in l:\n",
    "        # extracting the last part of the string\n",
    "        surname = name.split()[-1]\n",
    "        # if the last element of the splitted string is '(retained)', select the element left to it\n",
    "        if surname == '(retained)':\n",
    "            surname = name.split()[-2]    \n",
    "        # add surname to the dictionary\n",
    "        names.update({name:{'surname':surname}})\n",
    "        \n",
    "    # return the dictionary\n",
    "    return names"
   ]
  },
  {
   "cell_type": "code",
   "execution_count": null,
   "metadata": {},
   "outputs": [],
   "source": [
    "# extract the surnames\n",
    "player_names = get_surname(players)\n",
    "\n",
    "# displaying the resultant dictionary\n",
    "player_names"
   ]
  },
  {
   "cell_type": "markdown",
   "metadata": {},
   "source": [
    "Now, the names of the players in the \"deliveries\" dataset are given in two separate columns: \"batsman\" and \"bowler\" since cricket players are either batsmen or bowlers or both. Hence, the names need to be extracted using the two columns.\n",
    "\n",
    "First, the \"batsman\" column is used to find the corresponding names in the \"deliveries\" dataset."
   ]
  },
  {
   "cell_type": "markdown",
   "metadata": {},
   "source": [
    "Even then, multiple players can have the same surname. So, the first letter of their first name is extracted and checked in the available initials for that surname. If a match is found, that name is added as a key to that player. \n",
    "\n",
    "There are also many players who were bought at the auction but did not get a chance to play any game. For such players, the key is not added. "
   ]
  },
  {
   "cell_type": "code",
   "execution_count": null,
   "metadata": {},
   "outputs": [],
   "source": [
    "# function to get the names in the \"deliveries\" dataset \n",
    "def get_batsman_info(surname):\n",
    "    \n",
    "    # finding all the rows where the batsman name contains the passed surname\n",
    "    data = deli[deli.batsman.str.contains(surname)]\n",
    "    \n",
    "    # returning all the unique batsman names with that specific surname\n",
    "    return data.batsman.unique()"
   ]
  },
  {
   "cell_type": "code",
   "execution_count": null,
   "metadata": {
    "scrolled": true
   },
   "outputs": [],
   "source": [
    "# iterating over all the player names\n",
    "for b in player_names.keys():\n",
    "    \n",
    "    # surname of the player\n",
    "    surname = player_names[b]['surname']\n",
    "    \n",
    "    # list of all players who have the specific surname, can be 1 or more\n",
    "    list_of_names = get_batsman_info(surname)\n",
    "    \n",
    "    # exception handling in case a match for the surname does not exist in the \"deliveries\" dataset\n",
    "    try:\n",
    "        # iterating over all the names in the list\n",
    "        for n in list_of_names:\n",
    "            # checking if the first letter of the first name is present in the initials\n",
    "            if b[0] in n.split(' ')[0]:\n",
    "                # adding the key \n",
    "                player_names[b]['key'] = n\n",
    "    except:\n",
    "        pass\n",
    "            "
   ]
  },
  {
   "cell_type": "code",
   "execution_count": null,
   "metadata": {},
   "outputs": [],
   "source": [
    "# displaying the dictionary\n",
    "player_names"
   ]
  },
  {
   "cell_type": "markdown",
   "metadata": {},
   "source": [
    "The corresponding keys for all batsmen who played in IPL 2010 have been added. The steps are repeated for the bowlers. "
   ]
  },
  {
   "cell_type": "code",
   "execution_count": null,
   "metadata": {},
   "outputs": [],
   "source": [
    "# function to get the names in the \"deliveries\" dataset \n",
    "def get_bowler_info(surname):\n",
    "    \n",
    "    # finding all the rows where the bowler name contains the passed surname\n",
    "    data = deli[deli.bowler.str.contains(surname)]\n",
    "    \n",
    "    # returning all the unique bowler names with that specific surname\n",
    "    return data.bowler.unique()"
   ]
  },
  {
   "cell_type": "code",
   "execution_count": null,
   "metadata": {
    "scrolled": true
   },
   "outputs": [],
   "source": [
    "# iterating over all the player names\n",
    "for key in player_names.keys():\n",
    "    \n",
    "    # in case a key for the player name has not been added\n",
    "    if 'key' not in player_names[key].keys():\n",
    "        \n",
    "        # surname of the player\n",
    "        surname = player_names[key]['surname']\n",
    "        \n",
    "        # list of all players who have the specific surname, can be 1 or more\n",
    "        list_of_names = get_bowler_info(surname)\n",
    "        \n",
    "        # exception handling in case a match for the surname does not exist in the \"deliveries\" dataset\n",
    "        try:\n",
    "            # iterating over all the names in the list\n",
    "            for n in list_of_names:\n",
    "                # checking if the first letter of the first name is present in the initials \n",
    "                if key[0] in n.split(' ')[0]:\n",
    "                    # adding the key \n",
    "                    player_names[key]['key'] = n\n",
    "        except:\n",
    "            pass\n"
   ]
  },
  {
   "cell_type": "code",
   "execution_count": null,
   "metadata": {
    "scrolled": true
   },
   "outputs": [],
   "source": [
    "# printing the names of all players who did not play a single game in IPL 2010\n",
    "for key in player_names.keys():\n",
    "    # in case a key for the player name has not been added\n",
    "    if 'key' not in player_names[key].keys():\n",
    "        # print name\n",
    "        print(key)"
   ]
  },
  {
   "cell_type": "markdown",
   "metadata": {},
   "source": [
    "Two players did play games but their first names were stored as the middle names in the \"deliveries\" dataset. Their keys are added manually."
   ]
  },
  {
   "cell_type": "code",
   "execution_count": null,
   "metadata": {},
   "outputs": [],
   "source": [
    "player_names['Vinay Kumar']['key'] = 'R Vinay Kumar'\n",
    "player_names['Venugopal Rao']['key'] = 'Y Venugopal Rao'"
   ]
  },
  {
   "cell_type": "code",
   "execution_count": null,
   "metadata": {},
   "outputs": [],
   "source": [
    "# displaying the final dictionary\n",
    "player_names"
   ]
  },
  {
   "cell_type": "markdown",
   "metadata": {},
   "source": [
    "Now, the mapping between the names of the players in the two dataframes has been successfully created. The next step is to get the batting and details for the players in IPL 2010."
   ]
  },
  {
   "cell_type": "code",
   "execution_count": null,
   "metadata": {},
   "outputs": [],
   "source": [
    "# function to get the batting details given the player name\n",
    "def get_batting_details(name):\n",
    "    \n",
    "    # filtering out the deliveries faced by the batsman\n",
    "    data = deli[deli.batsman == name]\n",
    "    # no. of matches in which the batsman batted\n",
    "    num_matches = len(data.match_id.unique())\n",
    "    # total runs scored by the batsman in the entire season\n",
    "    total_runs = data.batsman_runs.sum()\n",
    "    # balls faced by the batsman in the entire season\n",
    "    balls_faced = data.ball.count()\n",
    "    # runs scored per match by the batsman\n",
    "    runs_per_match = data.groupby('match_id').sum()['batsman_runs']\n",
    "    # balls faced per match by the batsman\n",
    "    balls_faced_per_match = data.groupby('match_id').count()['ball']\n",
    "    # batting average in the season\n",
    "    batting_avg = np.mean(runs_per_match)\n",
    "    # highest score in the season, 0 in case the player did not score in any match\n",
    "    highest_score = max(runs_per_match, default=0)\n",
    "    # average strike rate in the season\n",
    "    strike_rate = np.mean(runs_per_match/balls_faced_per_match) * 100\n",
    "    # number of centuries scored in the season\n",
    "    num_centuries = len([runs for runs in runs_per_match if runs>=100])\n",
    "    # number of half centuries scored in the season\n",
    "    num_half_centuries = len([runs for runs in runs_per_match if runs>=50])\n",
    "    # number of fours hit in the season\n",
    "    fours = len(data[data.batsman_runs == 4])\n",
    "    # number of sixes hit in the season\n",
    "    sixes = len(data[data.batsman_runs == 6])\n",
    "    \n",
    "    # making a dictionary \n",
    "    tmp = {'matches_bat_ipl':num_matches, 'total_runs_scored_ipl':total_runs, 'balls_faced_ipl':balls_faced,\n",
    "          'batting_avg_ipl':batting_avg, 'highest_score_ipl':highest_score, 'strike_rate_ipl':strike_rate,\n",
    "          'centuries_ipl':num_centuries, 'half_centuries_ipl':num_half_centuries, 'fours_ipl':fours,\n",
    "          'sixes_ipl':sixes}\n",
    "    \n",
    "    # returning the dictionary\n",
    "    return tmp"
   ]
  },
  {
   "cell_type": "code",
   "execution_count": null,
   "metadata": {},
   "outputs": [],
   "source": [
    "# function to get the bowling details given the player name\n",
    "def get_bowling_details(name):\n",
    "    \n",
    "    # filtering out the deliveries bowled by the bowler\n",
    "    data = deli[deli.bowler == name]\n",
    "    # no. of matches in which the bowler bowled\n",
    "    num_matches = len(data.match_id.unique())\n",
    "    # total runs given by the bowler in the entire season\n",
    "    total_runs = data.batsman_runs.sum()\n",
    "    # balls bowled by the bowler in the entire season\n",
    "    balls_bowled = data.ball.count()\n",
    "    # wickets taken by the bowler in the entire season\n",
    "    wickets = len(data[data.player_dismissed.notnull()])\n",
    "    # runs given per match by the bowler\n",
    "    runs_per_match = data.groupby('match_id').sum()['batsman_runs']\n",
    "    # balls bowled per match by the bowler\n",
    "    balls_bowled_per_match = data.groupby('match_id').count()['ball']\n",
    "    # average runs given per match in the season\n",
    "    bowling_avg = np.mean(runs_per_match)\n",
    "    # average economy in the season\n",
    "    economy = np.mean(runs_per_match/balls_bowled_per_match*6)\n",
    "    # wickets taken per match\n",
    "    wickets_per_match = data[data.player_dismissed.notnull()].groupby('match_id').count()['player_dismissed']\n",
    "    # no. of 3 wicket hauls in the season\n",
    "    three_wickets = len(wickets_per_match[wickets_per_match >= 3])\n",
    "    \n",
    "    # making a dictionary \n",
    "    tmp = {'matches_bowl_ipl':num_matches, 'balls_bowled_ipl':balls_bowled, 'total_runs_given_ipl':total_runs,\n",
    "          'wickets_taken_ipl':wickets, 'bowling_avg_ipl':bowling_avg, 'economy_ipl':economy, '3wickets_ipl':three_wickets}\n",
    "    \n",
    "    # returning the dictionary\n",
    "    return tmp"
   ]
  },
  {
   "cell_type": "markdown",
   "metadata": {},
   "source": [
    "Now, the performance data for the players in IPL 2010 will be collected."
   ]
  },
  {
   "cell_type": "code",
   "execution_count": null,
   "metadata": {},
   "outputs": [],
   "source": [
    "# initialise an empty dictionary\n",
    "final = {}"
   ]
  },
  {
   "cell_type": "code",
   "execution_count": null,
   "metadata": {},
   "outputs": [],
   "source": [
    "# iterating over the player names\n",
    "for key in player_names.keys():\n",
    "    # exception handling in case a key for the player name does not exist\n",
    "    try:\n",
    "        # name of the player in the \"deliveries\" dataset\n",
    "        name = player_names[key]['key']\n",
    "        # getting the batting information for the player\n",
    "        result = get_batting_details(name)\n",
    "        # getting the bowling information for the player\n",
    "        result.update(get_bowling_details(name))\n",
    "        # updating the final dictionary with the name as the key\n",
    "        final.update({key:result})\n",
    "    except:\n",
    "        pass"
   ]
  },
  {
   "cell_type": "code",
   "execution_count": null,
   "metadata": {},
   "outputs": [],
   "source": [
    "# creating a dataframe using the dictionary\n",
    "ipl_df = pd.DataFrame(final).T\n",
    "\n",
    "ipl_df.head()"
   ]
  },
  {
   "cell_type": "code",
   "execution_count": null,
   "metadata": {},
   "outputs": [],
   "source": [
    "# reset index of the dataframe\n",
    "ipl_df.reset_index(inplace=True)"
   ]
  },
  {
   "cell_type": "code",
   "execution_count": null,
   "metadata": {},
   "outputs": [],
   "source": [
    "# changing the column name\n",
    "ipl_df.rename(columns={'index':'Name'}, inplace=True)"
   ]
  },
  {
   "cell_type": "code",
   "execution_count": null,
   "metadata": {},
   "outputs": [],
   "source": [
    "# display the dataframe\n",
    "ipl_df.head()"
   ]
  },
  {
   "cell_type": "markdown",
   "metadata": {},
   "source": [
    "The required dataframe storing the information on the performance of the players in IPL 2010 has been created. "
   ]
  },
  {
   "cell_type": "markdown",
   "metadata": {},
   "source": [
    "In the \"cricket\" dataset, create a categorical column \"Retained\" which stores 1 if the player was retained by his team, otherwise 0."
   ]
  },
  {
   "cell_type": "code",
   "execution_count": null,
   "metadata": {},
   "outputs": [],
   "source": [
    "# list storing information for the \"Retained\" variable\n",
    "retained = []\n",
    "\n",
    "# iterate over all the player names\n",
    "for name in df['Name']:\n",
    "    \n",
    "    # split the name; if the last element is '(retained)', store 1, else 0\n",
    "    if name.split()[-1] == '(retained)':\n",
    "        retained.append(1)    \n",
    "    else:\n",
    "        retained.append(0)"
   ]
  },
  {
   "cell_type": "code",
   "execution_count": null,
   "metadata": {},
   "outputs": [],
   "source": [
    "# adding the \"Retained\" column\n",
    "df['Retained'] = retained\n",
    "\n",
    "# update the \"Name\" column with the cleaned names\n",
    "df['Name'] = player_names"
   ]
  },
  {
   "cell_type": "code",
   "execution_count": null,
   "metadata": {},
   "outputs": [],
   "source": [
    "df"
   ]
  },
  {
   "cell_type": "code",
   "execution_count": null,
   "metadata": {},
   "outputs": [],
   "source": [
    "# merging the two dataframes\n",
    "final_data = df.merge(ipl_df, on='Name', how='outer')"
   ]
  },
  {
   "cell_type": "code",
   "execution_count": null,
   "metadata": {},
   "outputs": [],
   "source": [
    "# displaying the info of the resultant dataframe\n",
    "final_data.info()"
   ]
  },
  {
   "cell_type": "code",
   "execution_count": null,
   "metadata": {},
   "outputs": [],
   "source": [
    "# saving the dataset\n",
    "final_data.to_csv('Raw_Data.csv')"
   ]
  },
  {
   "cell_type": "markdown",
   "metadata": {},
   "source": [
    "The dataset necessary for our study has been created, however, it is dirty. So the next step is to clean the dataframe."
   ]
  }
 ],
 "metadata": {
  "kernelspec": {
   "display_name": "Python 3",
   "language": "python",
   "name": "python3"
  },
  "language_info": {
   "codemirror_mode": {
    "name": "ipython",
    "version": 3
   },
   "file_extension": ".py",
   "mimetype": "text/x-python",
   "name": "python",
   "nbconvert_exporter": "python",
   "pygments_lexer": "ipython3",
   "version": "3.8.5"
  }
 },
 "nbformat": 4,
 "nbformat_minor": 4
}
